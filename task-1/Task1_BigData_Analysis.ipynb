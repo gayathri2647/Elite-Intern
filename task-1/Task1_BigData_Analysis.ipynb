{
 "cells": [
  {
   "cell_type": "markdown",
   "id": "8bbe3ed1",
   "metadata": {},
   "source": [
    "## **Big Data Analysis Using Machine Learning**\n",
    "\n",
    "This is a part of **Task 1** of the internship with **Elite Tech Intern**."
   ]
  },
  {
   "cell_type": "code",
   "execution_count": 1,
   "id": "7d141bd3",
   "metadata": {},
   "outputs": [],
   "source": [
    "from pyspark.sql import SparkSession\n",
    "spark = SparkSession.builder.appName(\"Netflix Big Data Analysis\").getOrCreate()\n"
   ]
  },
  {
   "cell_type": "code",
   "execution_count": 2,
   "id": "0480d9dc",
   "metadata": {},
   "outputs": [
    {
     "name": "stdout",
     "output_type": "stream",
     "text": [
      "+-------+-------+--------------------+---------------+--------------------+-------------+------------------+------------+------+---------+--------------------+--------------------+\n",
      "|show_id|   type|               title|       director|                cast|      country|        date_added|release_year|rating| duration|           listed_in|         description|\n",
      "+-------+-------+--------------------+---------------+--------------------+-------------+------------------+------------+------+---------+--------------------+--------------------+\n",
      "|     s1|  Movie|Dick Johnson Is Dead|Kirsten Johnson|                NULL|United States|September 25, 2021|        2020| PG-13|   90 min|       Documentaries|As her father nea...|\n",
      "|     s2|TV Show|       Blood & Water|           NULL|Ama Qamata, Khosi...| South Africa|September 24, 2021|        2021| TV-MA|2 Seasons|International TV ...|After crossing pa...|\n",
      "|     s3|TV Show|           Ganglands|Julien Leclercq|Sami Bouajila, Tr...|         NULL|September 24, 2021|        2021| TV-MA| 1 Season|Crime TV Shows, I...|To protect his fa...|\n",
      "|     s4|TV Show|Jailbirds New Orl...|           NULL|                NULL|         NULL|September 24, 2021|        2021| TV-MA| 1 Season|Docuseries, Reali...|Feuds, flirtation...|\n",
      "|     s5|TV Show|        Kota Factory|           NULL|Mayur More, Jiten...|        India|September 24, 2021|        2021| TV-MA|2 Seasons|International TV ...|In a city of coac...|\n",
      "+-------+-------+--------------------+---------------+--------------------+-------------+------------------+------------+------+---------+--------------------+--------------------+\n",
      "only showing top 5 rows\n",
      "\n"
     ]
    }
   ],
   "source": [
    "df = spark.read.csv(\"db/netflix_titles.csv\", header=True, inferSchema=True)\n",
    "df.show(5)\n"
   ]
  },
  {
   "cell_type": "code",
   "execution_count": null,
   "id": "6d5ea397",
   "metadata": {},
   "outputs": [
    {
     "name": "stdout",
     "output_type": "stream",
     "text": [
      "root\n",
      " |-- show_id: string (nullable = true)\n",
      " |-- type: string (nullable = true)\n",
      " |-- title: string (nullable = true)\n",
      " |-- director: string (nullable = true)\n",
      " |-- cast: string (nullable = true)\n",
      " |-- country: string (nullable = true)\n",
      " |-- date_added: string (nullable = true)\n",
      " |-- release_year: string (nullable = true)\n",
      " |-- rating: string (nullable = true)\n",
      " |-- duration: string (nullable = true)\n",
      " |-- listed_in: string (nullable = true)\n",
      " |-- description: string (nullable = true)\n",
      "\n"
     ]
    }
   ],
   "source": [
    "df.printSchema()"
   ]
  },
  {
   "cell_type": "code",
   "execution_count": 4,
   "id": "bb44cd4a",
   "metadata": {},
   "outputs": [
    {
     "name": "stdout",
     "output_type": "stream",
     "text": [
      "Total Records: 8809\n"
     ]
    },
    {
     "data": {
      "text/plain": [
       "['show_id',\n",
       " 'type',\n",
       " 'title',\n",
       " 'director',\n",
       " 'cast',\n",
       " 'country',\n",
       " 'date_added',\n",
       " 'release_year',\n",
       " 'rating',\n",
       " 'duration',\n",
       " 'listed_in',\n",
       " 'description']"
      ]
     },
     "execution_count": 4,
     "metadata": {},
     "output_type": "execute_result"
    }
   ],
   "source": [
    "# Total records\n",
    "print(f\"Total Records: {df.count()}\")\n",
    "# Columns\n",
    "df.columns"
   ]
  },
  {
   "cell_type": "code",
   "execution_count": 5,
   "id": "0d7cfa70",
   "metadata": {},
   "outputs": [
    {
     "name": "stdout",
     "output_type": "stream",
     "text": [
      "+-------+-----+-----+--------+-----+-------+----------+------------+------+--------+---------+-----------+\n",
      "|show_id| type|title|director| cast|country|date_added|release_year|rating|duration|listed_in|description|\n",
      "+-------+-----+-----+--------+-----+-------+----------+------------+------+--------+---------+-----------+\n",
      "|  false|false|false|   false| true|  false|     false|       false| false|   false|    false|      false|\n",
      "|  false|false|false|    true|false|  false|     false|       false| false|   false|    false|      false|\n",
      "|  false|false|false|   false|false|   true|     false|       false| false|   false|    false|      false|\n",
      "|  false|false|false|    true| true|   true|     false|       false| false|   false|    false|      false|\n",
      "|  false|false|false|    true|false|  false|     false|       false| false|   false|    false|      false|\n",
      "|  false|false|false|   false|false|   true|     false|       false| false|   false|    false|      false|\n",
      "|  false|false|false|   false|false|   true|     false|       false| false|   false|    false|      false|\n",
      "|  false|false|false|   false|false|  false|     false|       false| false|   false|    false|      false|\n",
      "|  false|false|false|   false|false|  false|     false|       false| false|   false|    false|      false|\n",
      "|  false|false|false|   false|false|  false|     false|       false| false|   false|    false|      false|\n",
      "|  false|false|false|    true| true|   true|     false|       false| false|   false|    false|      false|\n",
      "|  false|false|false|   false|false|   true|     false|       false| false|   false|    false|      false|\n",
      "|  false|false|false|   false|false|  false|     false|       false| false|   false|    false|      false|\n",
      "|  false|false|false|   false|false|   true|     false|       false| false|   false|    false|      false|\n",
      "|  false|false|false|    true| true|   true|     false|       false| false|   false|    false|      false|\n",
      "|  false|false|false|    true|false|  false|     false|       false| false|   false|    false|      false|\n",
      "|  false|false|false|   false| true|   true|     false|       false| false|   false|    false|      false|\n",
      "|  false|false|false|    true|false|  false|     false|       false| false|   false|    false|      false|\n",
      "|  false|false|false|   false|false|   true|     false|       false| false|   false|    false|      false|\n",
      "|  false|false|false|    true|false|   true|     false|       false| false|   false|    false|      false|\n",
      "+-------+-----+-----+--------+-----+-------+----------+------------+------+--------+---------+-----------+\n",
      "only showing top 20 rows\n",
      "\n"
     ]
    }
   ],
   "source": [
    "from pyspark.sql.functions import col\n",
    "df.select([col(c).isNull().alias(c) for c in df.columns]).show()"
   ]
  },
  {
   "cell_type": "code",
   "execution_count": 6,
   "id": "6491d64b",
   "metadata": {},
   "outputs": [],
   "source": [
    "df_clean = df.dropna()"
   ]
  },
  {
   "cell_type": "code",
   "execution_count": 7,
   "id": "a2b531d1",
   "metadata": {},
   "outputs": [
    {
     "name": "stdout",
     "output_type": "stream",
     "text": [
      "Cleaned Records: 5332\n"
     ]
    }
   ],
   "source": [
    "print(f\"Cleaned Records: {df_clean.count()}\")"
   ]
  },
  {
   "cell_type": "markdown",
   "id": "96109c8f",
   "metadata": {},
   "source": [
    "## **Analysis & Insights**"
   ]
  },
  {
   "cell_type": "markdown",
   "id": "a3b9b1d9",
   "metadata": {},
   "source": [
    "**a) Number of Movies vs TV Shows**"
   ]
  },
  {
   "cell_type": "code",
   "execution_count": 8,
   "id": "7d42e19c",
   "metadata": {},
   "outputs": [
    {
     "name": "stdout",
     "output_type": "stream",
     "text": [
      "+-------------+-----+\n",
      "|         type|count|\n",
      "+-------------+-----+\n",
      "|         NULL|    1|\n",
      "|      TV Show| 2676|\n",
      "|        Movie| 6131|\n",
      "|William Wyler|    1|\n",
      "+-------------+-----+\n",
      "\n"
     ]
    }
   ],
   "source": [
    "df.groupBy(\"type\").count().show()\n"
   ]
  },
  {
   "cell_type": "markdown",
   "id": "44bc33ac",
   "metadata": {},
   "source": [
    "**b) Top 10 Countries with Most Content**"
   ]
  },
  {
   "cell_type": "code",
   "execution_count": 9,
   "id": "b7c9296c",
   "metadata": {},
   "outputs": [
    {
     "name": "stdout",
     "output_type": "stream",
     "text": [
      "+--------------+-----+\n",
      "|       country|count|\n",
      "+--------------+-----+\n",
      "| United States| 2805|\n",
      "|         India|  972|\n",
      "|          NULL|  832|\n",
      "|United Kingdom|  419|\n",
      "|         Japan|  245|\n",
      "|   South Korea|  199|\n",
      "|        Canada|  181|\n",
      "|         Spain|  145|\n",
      "|        France|  123|\n",
      "|        Mexico|  110|\n",
      "+--------------+-----+\n",
      "only showing top 10 rows\n",
      "\n"
     ]
    }
   ],
   "source": [
    "df.groupBy(\"country\").count().orderBy(\"count\", ascending=False).show(10)"
   ]
  },
  {
   "cell_type": "markdown",
   "id": "7126ed62",
   "metadata": {},
   "source": [
    "**c) Most Common Genres**"
   ]
  },
  {
   "cell_type": "code",
   "execution_count": 10,
   "id": "39d3c2bb",
   "metadata": {},
   "outputs": [
    {
     "name": "stdout",
     "output_type": "stream",
     "text": [
      "+--------------------+-----+\n",
      "|           listed_in|count|\n",
      "+--------------------+-----+\n",
      "|Dramas, Internati...|  361|\n",
      "|       Documentaries|  358|\n",
      "|     Stand-Up Comedy|  334|\n",
      "|Comedies, Dramas,...|  273|\n",
      "|Dramas, Independe...|  252|\n",
      "|            Kids' TV|  220|\n",
      "|Children & Family...|  215|\n",
      "|Children & Family...|  201|\n",
      "|Documentaries, In...|  186|\n",
      "|Dramas, Internati...|  180|\n",
      "+--------------------+-----+\n",
      "only showing top 10 rows\n",
      "\n"
     ]
    }
   ],
   "source": [
    "df.groupBy(\"listed_in\").count().orderBy(\"count\", ascending=False).show(10)\n"
   ]
  },
  {
   "cell_type": "markdown",
   "id": "2b658980",
   "metadata": {},
   "source": [
    " **d) Content Added Over the Years**"
   ]
  },
  {
   "cell_type": "code",
   "execution_count": 11,
   "id": "9cae0b72",
   "metadata": {},
   "outputs": [],
   "source": [
    "from pyspark.sql.functions import year, to_date\n",
    "# Convert date_added to actual date\n",
    "df = df.withColumn(\"date_added\", to_date(\"date_added\", \"MMMM d, yyyy\"))"
   ]
  },
  {
   "cell_type": "code",
   "execution_count": 12,
   "id": "4eebe82f",
   "metadata": {},
   "outputs": [],
   "source": [
    "# Extract year\n",
    "df = df.withColumn(\"year_added\", year(\"date_added\"))"
   ]
  },
  {
   "cell_type": "code",
   "execution_count": 13,
   "id": "7544b3d9",
   "metadata": {},
   "outputs": [
    {
     "name": "stdout",
     "output_type": "stream",
     "text": [
      "+----------+-----+\n",
      "|year_added|count|\n",
      "+----------+-----+\n",
      "|      NULL|  120|\n",
      "|      2008|    2|\n",
      "|      2009|    2|\n",
      "|      2010|    1|\n",
      "|      2011|   13|\n",
      "|      2012|    3|\n",
      "|      2013|   10|\n",
      "|      2014|   23|\n",
      "|      2015|   72|\n",
      "|      2016|  418|\n",
      "|      2017| 1162|\n",
      "|      2018| 1623|\n",
      "|      2019| 1997|\n",
      "|      2020| 1872|\n",
      "|      2021| 1491|\n",
      "+----------+-----+\n",
      "\n"
     ]
    }
   ],
   "source": [
    "df.groupBy(\"year_added\").count().orderBy(\"year_added\").show()"
   ]
  }
 ],
 "metadata": {
  "kernelspec": {
   "display_name": "Python 3",
   "language": "python",
   "name": "python3"
  },
  "language_info": {
   "codemirror_mode": {
    "name": "ipython",
    "version": 3
   },
   "file_extension": ".py",
   "mimetype": "text/x-python",
   "name": "python",
   "nbconvert_exporter": "python",
   "pygments_lexer": "ipython3",
   "version": "3.9.10"
  }
 },
 "nbformat": 4,
 "nbformat_minor": 5
}
